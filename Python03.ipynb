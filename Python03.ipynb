{
 "cells": [
  {
   "cell_type": "code",
   "execution_count": 23,
   "metadata": {},
   "outputs": [],
   "source": [
    "text = 'Král řekl Honzovi: \"Ta saň má 7 hlav! Zabij ji a dostaneš 1/2 království.\"'.lower()\n",
    "alpha = ['a','á','b','c','č','d','ď','e','é',\n",
    "            'f','g','h','i','í','j','k','l','m',\n",
    "            'n','ň','o','ó','p','q','r','ř','s',\n",
    "            'š','t','ť','u','ú','ů','v','w','x',\n",
    "            'y','ý','z','ž']\n",
    "number = ['0','1','2','3','4','5','6','7','8','9']\n",
    "cisla = 0\n",
    "pismena = 0\n",
    "ostatni = len(input_string) - pismena - cisla\n",
    "pop = len(number)"
   ]
  },
  {
   "cell_type": "code",
   "execution_count": 24,
   "metadata": {},
   "outputs": [],
   "source": [
    "alph = len(alpha)\n",
    "for slovo in range(0, alph):\n",
    "    pismena += text.count(alpha[slovo])"
   ]
  },
  {
   "cell_type": "code",
   "execution_count": 25,
   "metadata": {},
   "outputs": [],
   "source": [
    "for num in range(0, pop):\n",
    "    cisla += text.count(number[num])"
   ]
  },
  {
   "cell_type": "code",
   "execution_count": 42,
   "metadata": {},
   "outputs": [
    {
     "name": "stdout",
     "output_type": "stream",
     "text": [
      "Počet písmen: 52 \n",
      " Počet čísel: 3\n",
      " Počet jiných znaků: 74\n"
     ]
    }
   ],
   "source": [
    "print(\"Počet písmen: {} \\n Počet čísel: {}\\n Počet jiných znaků: {}\".format(pismena, cisla, ostatni))"
   ]
  },
  {
   "cell_type": "code",
   "execution_count": 53,
   "metadata": {},
   "outputs": [
    {
     "data": {
      "text/plain": [
       "430"
      ]
     },
     "execution_count": 53,
     "metadata": {},
     "output_type": "execute_result"
    }
   ],
   "source": [
    "mikes = 83\n",
    "mikes_lidsky_vek = 0\n",
    "if mikes < 1:\n",
    "    mikes_lidsky_vek += 18*mikes\n",
    "if mikes >= 1:\n",
    "    mikes_lidsky_vek += 18\n",
    "if mikes >= 2:\n",
    "    mikes_lidsky_vek += 7\n",
    "if mikes >2:\n",
    "    mikes_lidsky_vek += (mikes-2)*5\n",
    "mikes_lidsky_vek"
   ]
  },
  {
   "cell_type": "code",
   "execution_count": null,
   "metadata": {
    "collapsed": true
   },
   "outputs": [],
   "source": []
  }
 ],
 "metadata": {
  "kernelspec": {
   "display_name": "Python 3",
   "language": "python",
   "name": "python3"
  }
 },
 "nbformat": 4,
 "nbformat_minor": 2
}
