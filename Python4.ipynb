{
 "cells": [
  {
   "cell_type": "code",
   "execution_count": 3,
   "metadata": {},
   "outputs": [
    {
     "data": {
      "text/plain": [
       "0.3"
      ]
     },
     "execution_count": 3,
     "metadata": {},
     "output_type": "execute_result"
    }
   ],
   "source": [
    "def nucl_freq(seq,nucleo):\n",
    "    freq=seq.count(nucleo)/len(seq)\n",
    "    return(freq)\n",
    "seq = 'ACTGAATGCT'\n",
    "a_freq = nucl_freq(seq, 'A')\n",
    "a_freq"
   ]
  },
  {
   "cell_type": "code",
   "execution_count": 28,
   "metadata": {},
   "outputs": [],
   "source": [
    "def freq(seq):\n",
    "    freq_1 = {}\n",
    "    for i in set(seq):\n",
    "        freq_1.update({i:nucl_freq(seq,i)})\n",
    "    return freq_1"
   ]
  },
  {
   "cell_type": "code",
   "execution_count": 29,
   "metadata": {},
   "outputs": [
    {
     "data": {
      "text/plain": [
       "{'A': '0.2631578947368421 percent',\n",
       " 'C': '0.2631578947368421 percent',\n",
       " 'G': '0.2631578947368421 percent',\n",
       " 'T': '0.21052631578947367 percent'}"
      ]
     },
     "execution_count": 29,
     "metadata": {},
     "output_type": "execute_result"
    }
   ],
   "source": [
    "freq('AGATATATATGGGGCCCCC')"
   ]
  },
  {
   "cell_type": "code",
   "execution_count": null,
   "metadata": {
    "collapsed": true
   },
   "outputs": [],
   "source": []
  }
 ],
 "metadata": {
  "kernelspec": {
   "display_name": "Python 3",
   "language": "python",
   "name": "python3"
  },
  "language_info": {
   "codemirror_mode": {
    "name": "ipython",
    "version": 3
   },
   "file_extension": ".py",
   "mimetype": "text/x-python",
   "name": "python",
   "nbconvert_exporter": "python",
   "pygments_lexer": "ipython3",
   "version": "3.6.3"
  }
 },
 "nbformat": 4,
 "nbformat_minor": 2
}
